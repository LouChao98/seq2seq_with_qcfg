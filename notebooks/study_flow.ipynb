{
 "cells": [
  {
   "cell_type": "code",
   "execution_count": null,
   "metadata": {},
   "outputs": [],
   "source": [
    "import networkx as nx"
   ]
  },
  {
   "cell_type": "code",
   "execution_count": null,
   "metadata": {},
   "outputs": [],
   "source": [
    "G = nx.DiGraph()\n",
    "\n",
    "G.add_edge(\"s\", \"a\", capacity=1.0)\n",
    "G.add_edge(\"s\", \"b\", capacity=1.0)\n",
    "G.add_edge(\"s\", \"c\", capacity=1.0)\n",
    "\n",
    "G.add_edge(\"a\", \"x\", capacity=0.8)\n",
    "G.add_edge(\"a\", \"y\", capacity=0.1)\n",
    "G.add_edge(\"a\", \"z\", capacity=0.1)\n",
    "\n",
    "G.add_edge(\"b\", \"x\", capacity=0.1)\n",
    "G.add_edge(\"b\", \"y\", capacity=0.8)\n",
    "G.add_edge(\"b\", \"z\", capacity=0.1)\n",
    "\n",
    "G.add_edge(\"c\", \"x\", capacity=0.1)\n",
    "G.add_edge(\"c\", \"y\", capacity=0.1)\n",
    "G.add_edge(\"c\", \"z\", capacity=0.8)\n",
    "\n",
    "G.add_edge(\"x\", \"t\", capacity=1.0)\n",
    "G.add_edge(\"y\", \"t\", capacity=1.0)\n",
    "G.add_edge(\"z\", \"t\", capacity=1.0)\n"
   ]
  },
  {
   "cell_type": "code",
   "execution_count": null,
   "metadata": {},
   "outputs": [],
   "source": [
    "flow_value, flow_dict = nx.maximum_flow(G, \"s\", \"t\")"
   ]
  },
  {
   "cell_type": "code",
   "execution_count": null,
   "metadata": {},
   "outputs": [],
   "source": [
    "flow_value"
   ]
  },
  {
   "cell_type": "code",
   "execution_count": null,
   "metadata": {},
   "outputs": [],
   "source": [
    "flow_dict"
   ]
  },
  {
   "cell_type": "code",
   "execution_count": null,
   "metadata": {},
   "outputs": [],
   "source": []
  }
 ],
 "metadata": {
  "kernelspec": {
   "display_name": "Python 3.9.13 ('qcfg')",
   "language": "python",
   "name": "python3"
  },
  "language_info": {
   "codemirror_mode": {
    "name": "ipython",
    "version": 3
   },
   "file_extension": ".py",
   "mimetype": "text/x-python",
   "name": "python",
   "nbconvert_exporter": "python",
   "pygments_lexer": "ipython3",
   "version": "3.9.13"
  },
  "vscode": {
   "interpreter": {
    "hash": "6340dfcb1f4846790187e6e38a2223033dd4b63faaaf2b5d66af4069e2a8c130"
   }
  }
 },
 "nbformat": 4,
 "nbformat_minor": 2
}
