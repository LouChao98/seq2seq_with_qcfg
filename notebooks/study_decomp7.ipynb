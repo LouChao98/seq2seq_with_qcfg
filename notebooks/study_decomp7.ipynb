{
 "cells": [
  {
   "cell_type": "code",
   "execution_count": null,
   "metadata": {},
   "outputs": [],
   "source": [
    "import numpy as np\n",
    "import opt_einsum as oe\n",
    "from opt_einsum import contract"
   ]
  },
  {
   "cell_type": "code",
   "execution_count": null,
   "metadata": {},
   "outputs": [],
   "source": [
    "batch = 10\n",
    "SRC_NT = 10\n",
    "TGT_NT = 1000\n",
    "NT = SRC_NT * TGT_NT\n",
    "r = 2\n",
    "n = 10\n",
    "w = 10\n",
    "\n",
    "# H = np.random.randn(batch, NT, r)  # , A[i] -> R\n",
    "H = np.random.randn(batch, TGT_NT, SRC_NT, r)  # A[i] -> R\n",
    "TL_NT = np.random.randn(batch, r, SRC_NT, TGT_NT) # R, j -> B\n",
    "TR_NT = np.random.randn(batch, r, SRC_NT, TGT_NT) # R, k -> C\n",
    "SL = np.random.randn(batch, r, SRC_NT, SRC_NT) # R, i -> j\n",
    "SR = np.random.randn(batch, r, SRC_NT, SRC_NT) # R, i -> k\n",
    "\n",
    "Y = np.random.randn(batch, n, w, TGT_NT, SRC_NT)\n",
    "Z = np.random.randn(batch, n, w, TGT_NT, SRC_NT)"
   ]
  },
  {
   "cell_type": "code",
   "execution_count": null,
   "metadata": {},
   "outputs": [],
   "source": [
    "oe.contract_path('qair,qrjb,qrkc,qrij,qrik,qnwbj,qnwck->qnai', \n",
    "    H, TL_NT, TR_NT, SL, SR, Y, Z, optimize='optimal') \n",
    "\n",
    "\n",
    "# SRC_NT and n matters"
   ]
  },
  {
   "cell_type": "code",
   "execution_count": null,
   "metadata": {},
   "outputs": [],
   "source": [
    "optimizer = oe.DynamicProgramming(\n",
    "    minimize='size',    # optimize for largest intermediate tensor size\n",
    "    search_outer=True,  # search through outer products as well\n",
    "    cost_cap=False,     # don't use cost-capping strategy\n",
    ")\n",
    "oe.contract_path('qair,qrjb,qrkc,qrij,qrik,qnwbj,qnwck->qnai', \n",
    "    H, TL_NT, TR_NT, SL, SR, Y, Z, optimize=optimizer)"
   ]
  },
  {
   "cell_type": "code",
   "execution_count": null,
   "metadata": {},
   "outputs": [],
   "source": [
    "H = np.random.randn(batch, NT, r)\n",
    "L = np.random.randn(batch, NT, r)\n",
    "R = np.random.randn(batch, NT, r)\n",
    "Y = np.random.randn(batch, n, w, NT)\n",
    "Z = np.random.randn(batch, n, w, NT)\n",
    "\n",
    "oe.contract_path('qar,qbr,qcr,qnwb,qnwc->qna', \n",
    "    H, L, R, Y, Z, optimize='optimal') "
   ]
  },
  {
   "cell_type": "code",
   "execution_count": null,
   "metadata": {},
   "outputs": [],
   "source": [
    "# "
   ]
  },
  {
   "cell_type": "code",
   "execution_count": null,
   "metadata": {},
   "outputs": [],
   "source": []
  }
 ],
 "metadata": {
  "kernelspec": {
   "display_name": "qcfg",
   "language": "python",
   "name": "python3"
  },
  "language_info": {
   "codemirror_mode": {
    "name": "ipython",
    "version": 3
   },
   "file_extension": ".py",
   "mimetype": "text/x-python",
   "name": "python",
   "nbconvert_exporter": "python",
   "pygments_lexer": "ipython3",
   "version": "3.10.8 (main, Nov 24 2022, 14:13:03) [GCC 11.2.0]"
  },
  "vscode": {
   "interpreter": {
    "hash": "a69925a5f47e78e8e38aa0ea4dadbd769c67338c190adac02369679ce919a66d"
   }
  }
 },
 "nbformat": 4,
 "nbformat_minor": 2
}
