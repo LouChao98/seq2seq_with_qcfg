{
 "cells": [
  {
   "cell_type": "code",
   "execution_count": null,
   "metadata": {},
   "outputs": [],
   "source": [
    "import sys\n",
    "sys.path.insert(0, '..')\n",
    "from src.models.tgt_parser.struct.d1_pcfg import D1PCFG\n",
    "from src.models.tgt_parser.struct.pcfg import PCFG\n",
    "from pytorch_memlab import LineProfiler\n",
    "import torch\n",
    "from collections import Counter"
   ]
  },
  {
   "cell_type": "code",
   "execution_count": null,
   "metadata": {},
   "outputs": [],
   "source": [
    "\n",
    "# B = 3\n",
    "# N = 20\n",
    "# TGT_PT = 8\n",
    "# SRC_PT = 7\n",
    "# TGT_NT = 6\n",
    "# SRC_NT = 6\n",
    "# r = 12\n",
    "\n",
    "# NT = TGT_NT * SRC_NT\n",
    "# T = TGT_PT * SRC_PT\n",
    "# # lens = [max(2, N - i) for i in range(B)]\n",
    "# lens = [N -1 for i in range(B)]\n",
    "\n",
    "# slr = torch.rand(B, r, SRC_NT, SRC_NT + SRC_PT, SRC_NT + SRC_PT)\n",
    "# slr[..., :SRC_NT, :SRC_NT] /= slr[..., :SRC_NT, :SRC_NT].sum((3, 4), keepdim=True)\n",
    "# slr[..., SRC_NT:, :SRC_NT] /= slr[..., SRC_NT:, :SRC_NT].sum((3, 4), keepdim=True)\n",
    "# slr[..., :SRC_NT, SRC_NT:] /= slr[..., :SRC_NT, SRC_NT:].sum((3, 4), keepdim=True)\n",
    "# slr[..., SRC_NT:, SRC_NT:] /= slr[..., SRC_NT:, SRC_NT:].sum((3, 4), keepdim=True)\n",
    "\n",
    "# params = {\n",
    "#     \"term\": torch.randn(B, N, T).log_softmax(-1).requires_grad_(True),\n",
    "#     \"root\": torch.randn(B, NT).log_softmax(-1).requires_grad_(True),\n",
    "#     \"head\": torch.randn(B, NT, r).softmax(-1).requires_grad_(True),\n",
    "#     \"left\": torch.randn(B, r, TGT_NT + TGT_PT).softmax(-1).requires_grad_(True),\n",
    "#     \"right\": torch.randn(B, r, TGT_NT + TGT_PT).softmax(-1).requires_grad_(True),\n",
    "#     \"slr\": slr.requires_grad_(),\n",
    "# }\n",
    "\n",
    "# pcfg = D1PCFGFlex(TGT_NT, TGT_PT)\n",
    "# nll = pcfg(params, lens)\n",
    "\n",
    "# pcfg_ref = PCFG()\n",
    "# nll_ref = pcfg_ref(D1PCFGFlex.get_pcfg_rules(params, TGT_NT), lens)\n",
    "# print(nll, nll_ref)\n",
    "# assert torch.allclose(nll, nll_ref)\n",
    "\n",
    "# m1 = pcfg(params, lens, marginal=True)\n",
    "# assert torch.allclose(\n",
    "#     m1.sum((1, 2, 3, 4)),\n",
    "#     torch.tensor([item * 2 - 1 for item in lens], dtype=torch.float),\n",
    "# )\n",
    "\n",
    "# m2 = pcfg_ref(D1PCFGFlex.get_pcfg_rules(params, TGT_NT), lens, marginal=True)[-1]\n",
    "# assert torch.allclose(\n",
    "#     m1.diagonal(2, dim1=1, dim2=2).sum((1, 2)), m2[:, 0, :-1].sum(-1)\n",
    "# )\n"
   ]
  },
  {
   "cell_type": "code",
   "execution_count": null,
   "metadata": {},
   "outputs": [],
   "source": [
    "B = 1\n",
    "N = 3\n",
    "VOCAB = 3\n",
    "TGT_PT = 4\n",
    "SRC_PT = 3\n",
    "TGT_NT = 4\n",
    "SRC_NT = 3\n",
    "r = 2\n",
    "\n",
    "NT = TGT_NT * SRC_NT\n",
    "T = TGT_PT * SRC_PT\n",
    "lens = [max(2, N - i) for i in range(B)]\n",
    "\n",
    "slr = (\n",
    "    torch.randn(B, r, SRC_NT, SRC_NT, SRC_NT)\n",
    "    .view(B, r * SRC_NT, -1)\n",
    "    .softmax(-1)\n",
    "    .view(B, r, SRC_NT, SRC_NT, SRC_NT)\n",
    ")\n",
    "params = {\n",
    "    \"term\": torch.randn(B, T, VOCAB).log_softmax(-1).requires_grad_(True),\n",
    "    \"root\": torch.randn(B, NT).log_softmax(-1).requires_grad_(True),\n",
    "    \"head\": torch.randn(B, NT, r).softmax(-1).requires_grad_(True),\n",
    "    \"left\": torch.randn(B, r, TGT_NT + TGT_PT).softmax(-1).requires_grad_(True),\n",
    "    \"right\": torch.randn(B, r, TGT_NT + TGT_PT).softmax(-1).requires_grad_(True),\n",
    "    \"slr\": slr,\n",
    "}\n",
    "\n",
    "num_samples = 100000\n",
    "max_len = 4\n",
    "\n",
    "pcfg = D1PCFG(TGT_NT, TGT_PT)\n",
    "pred = pcfg.sampled_decoding(\n",
    "    params,\n",
    "    [[None] * SRC_NT for _ in range(B)],\n",
    "    TGT_NT,\n",
    "    [[None] * SRC_PT for _ in range(B)],\n",
    "    TGT_PT,\n",
    "    False,\n",
    "    num_samples,\n",
    "    max_length=max_len,\n",
    ")\n",
    "# print(pcfg(params, lens))\n",
    "new_pred = []\n",
    "\n",
    "for inst in pred:\n",
    "    new_pred_inst = []\n",
    "    for item, type, score in inst:\n",
    "        new_pred_inst.append(item)\n",
    "    new_pred.append(new_pred_inst)\n",
    "pred = new_pred\n",
    "\n",
    "pcfg_ref = PCFG()\n",
    "params2 = D1PCFG.get_pcfg_rules(params, TGT_NT)\n",
    "pred_ref = pcfg_ref.sampled_decoding(\n",
    "    params2,\n",
    "    [[None] * SRC_NT for _ in range(B)],\n",
    "    TGT_NT,\n",
    "    [[None] * SRC_PT for _ in range(B)],\n",
    "    TGT_PT,\n",
    "    False,\n",
    "    num_samples,\n",
    "    max_length=max_len,\n",
    ")\n",
    "# print(pred_ref(params2, lens))\n",
    "new_pred = []\n",
    "\n",
    "for inst in pred_ref:\n",
    "    new_pred_inst = []\n",
    "    for item, *_ in inst:\n",
    "        new_pred_inst.append(item)\n",
    "    new_pred.append(new_pred_inst)\n",
    "pred_ref = new_pred\n",
    "\n",
    "# assert torch.allclose(nll, nll_ref)\n",
    "\n",
    "# m1 = pcfg(params, lens, marginal=True)\n",
    "# assert torch.allclose(\n",
    "#     m1.sum((1, 2, 3, 4)),\n",
    "#     torch.tensor([item * 2 - 1 for item in lens], dtype=torch.float),\n",
    "# )\n",
    "\n",
    "# m2 = pcfg_ref(D1PCFGFlex.get_pcfg_rules(params, TGT_NT), lens, marginal=True)[-1]\n",
    "# assert torch.allclose(\n",
    "#     m1.diagonal(2, dim1=1, dim2=2).sum((1, 2)), m2[:, 0, :-1].sum(-1)\n",
    "# )\n"
   ]
  },
  {
   "cell_type": "code",
   "execution_count": null,
   "metadata": {},
   "outputs": [],
   "source": [
    "count = Counter(''.join(map(str, item)) for item in pred[0])\n",
    "count_ref = Counter(''.join(map(str, item)) for item in pred_ref[0])"
   ]
  },
  {
   "cell_type": "code",
   "execution_count": null,
   "metadata": {},
   "outputs": [],
   "source": [
    "count.most_common(5)"
   ]
  },
  {
   "cell_type": "code",
   "execution_count": null,
   "metadata": {},
   "outputs": [],
   "source": [
    "count_ref.most_common(5)"
   ]
  },
  {
   "cell_type": "code",
   "execution_count": null,
   "metadata": {},
   "outputs": [],
   "source": [
    "x = torch.tensor([[1, 1, 1, 0]])\n",
    "n = x.size(1)\n",
    "terms = params['term'].unsqueeze(1).expand(B, n, T, params['term'].size(2))\n",
    "x_expand = x.unsqueeze(2).expand(B, n, T).unsqueeze(3)\n",
    "terms = torch.gather(terms, 3, x_expand).squeeze(3)\n",
    "params3 = {**params}\n",
    "params3['term'] = terms\n",
    "nll = pcfg(params3, [x.shape[1]])"
   ]
  },
  {
   "cell_type": "code",
   "execution_count": null,
   "metadata": {},
   "outputs": [],
   "source": [
    "(-nll).exp() * 100000"
   ]
  },
  {
   "cell_type": "code",
   "execution_count": null,
   "metadata": {},
   "outputs": [],
   "source": [
    "count['1110'], count_ref['1110']"
   ]
  },
  {
   "cell_type": "code",
   "execution_count": null,
   "metadata": {},
   "outputs": [],
   "source": []
  }
 ],
 "metadata": {
  "kernelspec": {
   "display_name": "Python 3.9.13 ('qcfg')",
   "language": "python",
   "name": "python3"
  },
  "language_info": {
   "codemirror_mode": {
    "name": "ipython",
    "version": 3
   },
   "file_extension": ".py",
   "mimetype": "text/x-python",
   "name": "python",
   "nbconvert_exporter": "python",
   "pygments_lexer": "ipython3",
   "version": "3.9.13"
  },
  "vscode": {
   "interpreter": {
    "hash": "6340dfcb1f4846790187e6e38a2223033dd4b63faaaf2b5d66af4069e2a8c130"
   }
  }
 },
 "nbformat": 4,
 "nbformat_minor": 2
}
