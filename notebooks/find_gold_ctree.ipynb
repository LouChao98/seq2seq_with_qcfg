{
 "cells": [
  {
   "cell_type": "code",
   "execution_count": null,
   "metadata": {},
   "outputs": [],
   "source": [
    "from nltk.corpus.reader.bracket_parse import BracketParseCorpusReader"
   ]
  },
  {
   "cell_type": "code",
   "execution_count": null,
   "metadata": {},
   "outputs": [],
   "source": [
    "data = BracketParseCorpusReader('../data/PTBConstituency', ['ptb-train.txt', 'ptb-valid.txt', 'ptb-test.txt'])\n",
    "len(data.sents())"
   ]
  },
  {
   "cell_type": "code",
   "execution_count": null,
   "metadata": {},
   "outputs": [],
   "source": [
    "sents = [(i, sent) for i, sent in enumerate(data.sents()) if 5 <= len(sent) <= 12]\n",
    "sents_set_in_ptbc = {' '.join(sent).lower(): i for i, sent in sents}\n",
    "parse_trees = list(data.parsed_sents())"
   ]
  },
  {
   "cell_type": "code",
   "execution_count": null,
   "metadata": {},
   "outputs": [],
   "source": [
    "def findtrees(src, output_path):\n",
    "    with open(src) as f:\n",
    "        styleptb_data = [line.split('\\t')[0].strip() for line in f.readlines()]\n",
    "    ids = []\n",
    "    for sent_in_styleptb in styleptb_data:\n",
    "        ids.append(sents_set_in_ptbc[sent_in_styleptb])\n",
    "    with open(output_path, 'w') as f:\n",
    "        for i in ids:\n",
    "            tree = parse_trees[i]\n",
    "            f.write(tree._pformat_flat(\"\", \"()\", False))\n",
    "            f.write('\\n')"
   ]
  },
  {
   "cell_type": "code",
   "execution_count": null,
   "metadata": {},
   "outputs": [],
   "source": [
    "findtrees('../data/StylePTB/ATP/train.tsv', '../data/StylePTB/ATP/train.tb')\n",
    "findtrees('../data/StylePTB/ATP/valid.tsv', '../data/StylePTB/ATP/valid.tb')\n",
    "findtrees('../data/StylePTB/ATP/test.tsv', '../data/StylePTB/ATP/test.tb')"
   ]
  },
  {
   "cell_type": "code",
   "execution_count": null,
   "metadata": {},
   "outputs": [],
   "source": [
    "tree.collapse_unary"
   ]
  }
 ],
 "metadata": {
  "kernelspec": {
   "display_name": "Python 3.9.12 ('qcfg')",
   "language": "python",
   "name": "python3"
  },
  "language_info": {
   "codemirror_mode": {
    "name": "ipython",
    "version": 3
   },
   "file_extension": ".py",
   "mimetype": "text/x-python",
   "name": "python",
   "nbconvert_exporter": "python",
   "pygments_lexer": "ipython3",
   "version": "3.9.12"
  },
  "vscode": {
   "interpreter": {
    "hash": "6340dfcb1f4846790187e6e38a2223033dd4b63faaaf2b5d66af4069e2a8c130"
   }
  }
 },
 "nbformat": 4,
 "nbformat_minor": 2
}
