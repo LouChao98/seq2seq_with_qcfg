{
 "cells": [
  {
   "cell_type": "code",
   "execution_count": 1,
   "metadata": {},
   "outputs": [],
   "source": [
    "import numpy as np\n",
    "import opt_einsum as oe\n",
    "from opt_einsum import contract"
   ]
  },
  {
   "cell_type": "code",
   "execution_count": 2,
   "metadata": {},
   "outputs": [],
   "source": [
    "batch = 10\n",
    "SRC_NT = 10\n",
    "TGT_NT = 10\n",
    "NT = SRC_NT * TGT_NT\n",
    "r = 2\n",
    "n = 10\n",
    "w = 10\n",
    "\n",
    "# H = np.random.randn(batch, NT, r)  # , A[i] -> R\n",
    "H = np.random.randn(batch, TGT_NT, SRC_NT, r)  # , A[i] -> R\n",
    "TL_NT = np.random.randn(batch, r, SRC_NT, TGT_NT) # R, j -> B\n",
    "TR_NT = np.random.randn(batch, r, SRC_NT, TGT_NT) # R, k -> C\n",
    "SL = np.random.randn(batch, r, SRC_NT, SRC_NT) # R, i -> j\n",
    "SR = np.random.randn(batch, r, SRC_NT, SRC_NT) # R, i -> k\n",
    "\n",
    "Y = np.random.randn(batch, n, w, TGT_NT, SRC_NT)\n",
    "Z = np.random.randn(batch, n, w, TGT_NT, SRC_NT)"
   ]
  },
  {
   "cell_type": "code",
   "execution_count": 3,
   "metadata": {},
   "outputs": [
    {
     "data": {
      "text/plain": [
       "([(1, 5), (1, 4), (1, 2), (1, 2), (1, 2), (0, 1)],\n",
       "   Complete contraction:  qair,qrjb,qrkc,qrij,qrik,qnwbj,qnwck->qnai\n",
       "          Naive scaling:  10\n",
       "      Optimized scaling:  6\n",
       "       Naive FLOP count:  1.400e+10\n",
       "   Optimized FLOP count:  1.660e+6\n",
       "    Theoretical speedup:  8.434e+3\n",
       "   Largest intermediate:  2.000e+4 elements\n",
       " --------------------------------------------------------------------------------\n",
       " scaling        BLAS                current                             remaining\n",
       " --------------------------------------------------------------------------------\n",
       "    6              0      qnwbj,qrjb->qnwjr    qair,qrkc,qrij,qrik,qnwck,qnwjr->qnai\n",
       "    6              0      qnwck,qrkc->qnwkr      qair,qrij,qrik,qnwjr,qnwkr->qnai\n",
       "    5              0       qrik,qrij->qrikj          qair,qnwjr,qnwkr,qrikj->qnai\n",
       "    6              0     qnwkr,qnwjr->qnkrj                qair,qrikj,qnkrj->qnai\n",
       "    6              0      qnkrj,qrikj->qnri                       qair,qnri->qnai\n",
       "    5              0        qnri,qair->qnai                            qnai->qnai)"
      ]
     },
     "execution_count": 3,
     "metadata": {},
     "output_type": "execute_result"
    }
   ],
   "source": [
    "oe.contract_path('qair,qrjb,qrkc,qrij,qrik,qnwbj,qnwck->qnai', \n",
    "    H, TL_NT, TR_NT, SL, SR, Y, Z, optimize='optimal') \n",
    "\n",
    "\n",
    "# SRC_NT and n matters"
   ]
  },
  {
   "cell_type": "code",
   "execution_count": 4,
   "metadata": {},
   "outputs": [
    {
     "data": {
      "text/plain": [
       "([(1, 3), (1, 2), (1, 2), (0, 1)],\n",
       "   Complete contraction:  qar,qbr,qcr,qnwb,qnwc->qna\n",
       "          Naive scaling:  7\n",
       "      Optimized scaling:  5\n",
       "       Naive FLOP count:  1.000e+10\n",
       "   Optimized FLOP count:  8.440e+5\n",
       "    Theoretical speedup:  1.185e+4\n",
       "   Largest intermediate:  1.000e+4 elements\n",
       " --------------------------------------------------------------------------------\n",
       " scaling        BLAS                current                             remaining\n",
       " --------------------------------------------------------------------------------\n",
       "    5              0         qnwb,qbr->qnwr                qar,qcr,qnwc,qnwr->qna\n",
       "    5              0         qnwc,qcr->qnwr                    qar,qnwr,qnwr->qna\n",
       "    4              0         qnwr,qnwr->qnr                          qar,qnr->qna\n",
       "    4              0           qnr,qar->qna                              qna->qna)"
      ]
     },
     "execution_count": 4,
     "metadata": {},
     "output_type": "execute_result"
    }
   ],
   "source": [
    "H = np.random.randn(batch, NT, r)\n",
    "L = np.random.randn(batch, NT, r)\n",
    "R = np.random.randn(batch, NT, r)\n",
    "Y = np.random.randn(batch, n, w, NT)\n",
    "Z = np.random.randn(batch, n, w, NT)\n",
    "\n",
    "oe.contract_path('qar,qbr,qcr,qnwb,qnwc->qna', \n",
    "    H, L, R, Y, Z, optimize='optimal') "
   ]
  },
  {
   "cell_type": "code",
   "execution_count": 72,
   "metadata": {},
   "outputs": [],
   "source": [
    "# "
   ]
  },
  {
   "cell_type": "code",
   "execution_count": null,
   "metadata": {},
   "outputs": [],
   "source": []
  }
 ],
 "metadata": {
  "kernelspec": {
   "display_name": "Python 3.9.12 ('neural-qcfg')",
   "language": "python",
   "name": "python3"
  },
  "language_info": {
   "codemirror_mode": {
    "name": "ipython",
    "version": 3
   },
   "file_extension": ".py",
   "mimetype": "text/x-python",
   "name": "python",
   "nbconvert_exporter": "python",
   "pygments_lexer": "ipython3",
   "version": "3.9.12"
  },
  "orig_nbformat": 4,
  "vscode": {
   "interpreter": {
    "hash": "aa1f57034b3317836258b739e3fcb15394bcdabea5ea2ca5fee49f2f6391ec9e"
   }
  }
 },
 "nbformat": 4,
 "nbformat_minor": 2
}
