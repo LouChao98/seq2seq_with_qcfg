{
 "cells": [
  {
   "cell_type": "code",
   "execution_count": null,
   "metadata": {},
   "outputs": [],
   "source": [
    "import numpy as np\n",
    "import opt_einsum as oe\n",
    "from opt_einsum import contract"
   ]
  },
  {
   "cell_type": "code",
   "execution_count": null,
   "metadata": {},
   "outputs": [],
   "source": [
    "batch = 10\n",
    "SRC_NT = 10\n",
    "TGT_NT = 10\n",
    "NT = SRC_NT * TGT_NT\n",
    "r = 2\n",
    "n = 10\n",
    "w = 10\n",
    "\n",
    "# H = np.random.randn(batch, NT, r)  # , A[i] -> R\n",
    "H = np.random.randn(batch, TGT_NT, SRC_NT, r)  # , A[i] -> R\n",
    "TL_NT = np.random.randn(batch, r, SRC_NT, TGT_NT) # R, j -> B\n",
    "TR_NT = np.random.randn(batch, r, SRC_NT, TGT_NT) # R, k -> C\n",
    "SL = np.random.randn(batch, r, SRC_NT, SRC_NT) # R, i -> j\n",
    "SR = np.random.randn(batch, r, SRC_NT, SRC_NT) # R, i -> k\n",
    "\n",
    "Y = np.random.randn(batch, n, w, TGT_NT, SRC_NT)\n",
    "Z = np.random.randn(batch, n, w, TGT_NT, SRC_NT)"
   ]
  },
  {
   "cell_type": "code",
   "execution_count": null,
   "metadata": {},
   "outputs": [],
   "source": [
    "oe.contract_path('qair,qrjb,qrkc,qrij,qrik,qnwbj,qnwck->qnai', \n",
    "    H, TL_NT, TR_NT, SL, SR, Y, Z, optimize='optimal') \n",
    "\n",
    "\n",
    "# SRC_NT and n matters"
   ]
  },
  {
   "cell_type": "code",
   "execution_count": null,
   "metadata": {},
   "outputs": [],
   "source": [
    "H = np.random.randn(batch, NT, r)\n",
    "L = np.random.randn(batch, NT, r)\n",
    "R = np.random.randn(batch, NT, r)\n",
    "Y = np.random.randn(batch, n, w, NT)\n",
    "Z = np.random.randn(batch, n, w, NT)\n",
    "\n",
    "oe.contract_path('qar,qbr,qcr,qnwb,qnwc->qna', \n",
    "    H, L, R, Y, Z, optimize='optimal') "
   ]
  },
  {
   "cell_type": "code",
   "execution_count": null,
   "metadata": {},
   "outputs": [],
   "source": [
    "# "
   ]
  },
  {
   "cell_type": "code",
   "execution_count": null,
   "metadata": {},
   "outputs": [],
   "source": []
  }
 ],
 "metadata": {
  "kernelspec": {
   "display_name": "Python 3.9.13 ('qcfg')",
   "language": "python",
   "name": "python3"
  },
  "language_info": {
   "codemirror_mode": {
    "name": "ipython",
    "version": 3
   },
   "file_extension": ".py",
   "mimetype": "text/x-python",
   "name": "python",
   "nbconvert_exporter": "python",
   "pygments_lexer": "ipython3",
   "version": "3.9.13"
  },
  "vscode": {
   "interpreter": {
    "hash": "6340dfcb1f4846790187e6e38a2223033dd4b63faaaf2b5d66af4069e2a8c130"
   }
  }
 },
 "nbformat": 4,
 "nbformat_minor": 2
}
